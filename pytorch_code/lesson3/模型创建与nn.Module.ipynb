{
 "cells": [
  {
   "cell_type": "markdown",
   "metadata": {
    "collapsed": true
   },
   "source": [
    "网络模型创建步骤"
   ]
  },
  {
   "cell_type": "markdown",
   "metadata": {},
   "source": [
    "模型可分为模型创建和权值初始化。  \n",
    "模型创建分为构建网络层和拼接网络层。  \n",
    "构建网络层包括卷积层，池化层，激活函数层等。  \n",
    "拼接网络层包括LeNet，AlexNet，ResNet等。  \n",
    "权值初始化包括Xavier,Kaiming,均匀分布,正态分布等"
   ]
  },
  {
   "cell_type": "markdown",
   "metadata": {},
   "source": [
    "模型构建两要素包括构建子模块和拼接子模块。  \n",
    "构建子模块在__init__()中实现，拼接子模块在forward()中实现"
   ]
  },
  {
   "cell_type": "markdown",
   "metadata": {},
   "source": [
    "torch.nn中有:  \n",
    "nn.Prarmeter为张量子类，表示可学习参数，如weight，bias  \n",
    "nn.Module包括所有网络层基类，管理网络属性  \n",
    "nn.functional包括函数具体实现，如卷积，池化，激活函数等  \n",
    "nn.init包括参数初始化方法\n"
   ]
  },
  {
   "cell_type": "markdown",
   "metadata": {},
   "source": [
    "nn.Module  \n",
    "* parameters:存储管理nn.Parameter类  \n",
    "* modules:存储管理nn.Module类  \n",
    "* buffers:存储管理缓冲属性，如BN层中的running_mean  \n",
    "* ***_hooks：存储管理钩子函数"
   ]
  },
  {
   "cell_type": "markdown",
   "metadata": {},
   "source": [
    "一个module可以包含多个子module  \n",
    "一个module相当于一个运算，必须实现forward()函数  \n",
    "每个module都有8个字典管理它的属性"
   ]
  },
  {
   "cell_type": "code",
   "execution_count": null,
   "metadata": {},
   "outputs": [],
   "source": []
  }
 ],
 "metadata": {
  "kernelspec": {
   "display_name": "Python 2",
   "language": "python",
   "name": "python2"
  },
  "language_info": {
   "codemirror_mode": {
    "name": "ipython",
    "version": 2
   },
   "file_extension": ".py",
   "mimetype": "text/x-python",
   "name": "python",
   "nbconvert_exporter": "python",
   "pygments_lexer": "ipython2",
   "version": "2.7.6"
  }
 },
 "nbformat": 4,
 "nbformat_minor": 0
}
