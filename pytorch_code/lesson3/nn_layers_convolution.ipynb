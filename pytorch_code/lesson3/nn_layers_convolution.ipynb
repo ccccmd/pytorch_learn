{
 "cells": [
  {
   "cell_type": "markdown",
   "metadata": {
    "collapsed": true
   },
   "source": [
    "1d/2d/3d Convolution  "
   ]
  },
  {
   "cell_type": "markdown",
   "metadata": {},
   "source": [
    "卷积运算：卷积核在输入信号（图像）上滑动，相应位置进行乘加  \n",
    "卷积核：又称为滤波器，过滤器，可认为是某种模式，某种特征  \n",
    "卷积过程类似于用一个模版去图像上寻找与它相似的区域，与卷积核模式越相似，激活值越高，从而实现特征提取  "
   ]
  },
  {
   "cell_type": "markdown",
   "metadata": {},
   "source": []
  },
  {
   "cell_type": "markdown",
   "metadata": {},
   "source": [
    "nn.Conv2d  \n",
    "功能：对多个二维信号进行二维卷积  \n",
    "* in_channels:输入通道数  \n",
    "* out_channels:输出通道数，等价于卷积核个数  \n",
    "* kernel_size:卷积核尺寸  \n",
    "* stride:步长  \n",
    "* padding:填充个数  \n",
    "* dilation:空洞卷积大小  \n",
    "* groups:分组卷积设置  \n",
    "* bias:偏置  \n",
    "尺寸计算：  \n",
    "简化版：输出尺寸 = （输入尺寸-卷积核大小）/步长+1  \n",
    "完整版：输出尺寸 = （输入尺寸+2 * padding-dilation *（卷积核大小-1）-1）/步长+1  \n"
   ]
  },
  {
   "cell_type": "code",
   "execution_count": 13,
   "metadata": {},
   "outputs": [
    {
     "data": {
      "text/plain": [
       "tensor([[[[0.8824, 0.8824, 0.8824,  ..., 0.8941, 0.8549, 0.7961],\n          [0.8784, 0.8824, 0.8784,  ..., 0.9059, 0.8588, 0.7922],\n          [0.8824, 0.8784, 0.8784,  ..., 0.9137, 0.8667, 0.7765],\n          ...,\n          [0.3216, 0.3098, 0.3686,  ..., 0.6863, 0.6824, 0.6824],\n          [0.3216, 0.3137, 0.3843,  ..., 0.7059, 0.7137, 0.7059],\n          [0.3255, 0.3176, 0.3882,  ..., 0.7020, 0.7216, 0.7216]],\n\n         [[0.5412, 0.5333, 0.5333,  ..., 0.5843, 0.5176, 0.3922],\n          [0.5333, 0.5333, 0.5333,  ..., 0.5882, 0.5216, 0.3922],\n          [0.5373, 0.5373, 0.5373,  ..., 0.5765, 0.5098, 0.3804],\n          ...,\n          [0.0863, 0.0706, 0.1176,  ..., 0.2706, 0.2588, 0.2588],\n          [0.0863, 0.0745, 0.1333,  ..., 0.2745, 0.2824, 0.2863],\n          [0.0902, 0.0784, 0.1373,  ..., 0.2667, 0.2941, 0.2941]],\n\n         [[0.4745, 0.5020, 0.5176,  ..., 0.4627, 0.4196, 0.3333],\n          [0.4784, 0.5020, 0.5176,  ..., 0.4745, 0.4314, 0.3451],\n          [0.4902, 0.5020, 0.5098,  ..., 0.4706, 0.4392, 0.3490],\n          ...,\n          [0.2196, 0.2039, 0.2549,  ..., 0.3255, 0.3098, 0.3098],\n          [0.2196, 0.2078, 0.2706,  ..., 0.3176, 0.3255, 0.3255],\n          [0.2235, 0.2118, 0.2745,  ..., 0.2941, 0.3176, 0.3176]]]])"
      ]
     },
     "execution_count": 13,
     "metadata": {},
     "output_type": "execute_result"
    }
   ],
   "source": [
    "#-*-coding:utf-8-*-\n",
    "import os\n",
    "import torch.nn as nn\n",
    "from PIL import Image\n",
    "from torchvision import transforms\n",
    "from matplotlib import pyplot as plt\n",
    "import inspect\n",
    "import os.path\n",
    "from pytorch_code.lesson3.tools.transform_invert import set_seed,transform_invert\n",
    "set_seed(3)\n",
    "\n",
    "path_img = os.path.join(os.getcwd(), 'pytorch_code', 'lesson3', \"lena.png\")\n",
    "img = Image.open(path_img).convert('RGB')\n",
    "\n",
    "img_transfrom = transforms.Compose([transforms.ToTensor()])\n",
    "img_tensor = img_transfrom(img)\n",
    "img_tensor.unsqueeze_(dim=0)"
   ]
  },
  {
   "cell_type": "code",
   "execution_count": 10,
   "metadata": {},
   "outputs": [],
   "source": [
    "conv_layer = nn.Conv2d(3, 1, 3)\n",
    "nn.init.xavier_normal_(conv_layer.weight.data)\n",
    "img_conv = conv_layer(img_tensor)"
   ]
  },
  {
   "cell_type": "code",
   "execution_count": 11,
   "metadata": {},
   "outputs": [
    {
     "data": {
      "text/plain": [
       "(torch.Size([1, 3, 512, 512]),\n torch.Size([1, 1, 510, 510]),\n torch.Size([1, 510, 510]))"
      ]
     },
     "execution_count": 11,
     "metadata": {},
     "output_type": "execute_result"
    }
   ],
   "source": [
    "img_tensor.shape, img_conv.shape, img_conv[0, 0:1, ...].shape"
   ]
  },
  {
   "cell_type": "code",
   "execution_count": 12,
   "metadata": {},
   "outputs": [],
   "source": [
    "img_conv = transform_invert(img_conv[0, 0:1, ...], img_transfrom)\n",
    "img_raw = transform_invert(img_tensor.squeeze(), img_transfrom)\n",
    "plt.subplot(122).imshow(img_conv, cmap='gray')\n",
    "plt.subplot(121).imshow(img_raw)\n",
    "plt.show()"
   ]
  },
  {
   "cell_type": "code",
   "execution_count": 5,
   "metadata": {},
   "outputs": [],
   "source": [
    "conv_layer = nn.ConvTranspose2d(3, 1, 3, stride=2)\n",
    "nn.init.xavier_normal_(conv_layer.weight.data)\n",
    "img_conv = conv_layer(img_tensor)"
   ]
  },
  {
   "cell_type": "code",
   "execution_count": 6,
   "metadata": {},
   "outputs": [
    {
     "data": {
      "text/plain": [
       "(torch.Size([1, 3, 512, 512]),\n torch.Size([1, 1, 1025, 1025]),\n torch.Size([1, 1025, 1025]))"
      ]
     },
     "execution_count": 6,
     "metadata": {},
     "output_type": "execute_result"
    }
   ],
   "source": [
    "img_tensor.shape, img_conv.shape, img_conv[0, 0:1, ...].shape"
   ]
  },
  {
   "cell_type": "code",
   "execution_count": 7,
   "metadata": {},
   "outputs": [],
   "source": [
    "img_conv = transform_invert(img_conv[0, 0:1, ...], img_transfrom)\n",
    "img_raw = transform_invert(img_tensor.squeeze(), img_transfrom)\n",
    "plt.subplot(122).imshow(img_conv, cmap='gray')\n",
    "plt.subplot(121).imshow(img_raw)\n",
    "plt.show()"
   ]
  },
  {
   "cell_type": "markdown",
   "metadata": {},
   "source": [
    "转置卷积又称为反卷积和部分跨越卷积，用于对图像进行上采样  \n",
    "nn.ConvTranspose2d  \n",
    "功能：转置卷积实现上采样  \n",
    "主要参数：  \n",
    "* in_channels:输入通道数  \n",
    "* out_channels:输出通道数，等价于卷积核个数  \n",
    "* kernel_size:卷积核尺寸  \n",
    "* stride:步长  \n",
    "* padding:填充个数  \n",
    "* dilation:空洞卷积大小  \n",
    "* groups:分组卷积设置  \n",
    "* bias:偏置  \n",
    "尺寸计算：  \n",
    "简化版：输出尺寸 =（输入尺寸-1）* 步长 + 卷积核大小  \n",
    "完整版：输出尺寸 = (输入尺寸-1) * 步长 - 2 * padding + dilation * (卷积核大小 - 1) + output_padding + 1  \n",
    "转置卷积有棋盘效应"
   ]
  },
  {
   "cell_type": "code",
   "execution_count": null,
   "metadata": {},
   "outputs": [],
   "source": []
  }
 ],
 "metadata": {
  "kernelspec": {
   "display_name": "Python 2",
   "language": "python",
   "name": "python2"
  },
  "language_info": {
   "codemirror_mode": {
    "name": "ipython",
    "version": 2
   },
   "file_extension": ".py",
   "mimetype": "text/x-python",
   "name": "python",
   "nbconvert_exporter": "python",
   "pygments_lexer": "ipython2",
   "version": "2.7.6"
  }
 },
 "nbformat": 4,
 "nbformat_minor": 0
}
