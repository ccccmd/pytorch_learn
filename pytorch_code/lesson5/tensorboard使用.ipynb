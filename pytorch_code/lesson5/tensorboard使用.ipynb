{
 "cells": [
  {
   "cell_type": "markdown",
   "metadata": {
    "collapsed": true
   },
   "source": [
    "tensorboard"
   ]
  },
  {
   "cell_type": "markdown",
   "metadata": {},
   "source": [
    "SummaryWriter  \n",
    "功能：提供创建event file的高级接口  \n",
    "主要属性：  \n",
    "* log_dir:event file 输出文件夹  \n",
    "* comment:不指定log_dir时，文件夹后缀  \n",
    "* filename_suffix:event file 文件名后缀"
   ]
  },
  {
   "cell_type": "markdown",
   "metadata": {},
   "source": [
    "代码见tensorboard_SummaryWriter.py"
   ]
  },
  {
   "cell_type": "markdown",
   "metadata": {},
   "source": [
    "SummaryWriter方法  \n",
    "1.add_scalar()  \n",
    "功能：记录标量  \n",
    "* tag:图像的标签名，图的唯一标识  \n",
    "* scalar_value:要记录的标量  \n",
    "* global_step:x轴  \n",
    "\n",
    "2.add_scalars()  \n",
    "* main_tag:该图的标签  \n",
    "* tag_scalar_dict:key是变量的tag，value是变量的值"
   ]
  },
  {
   "cell_type": "markdown",
   "metadata": {},
   "source": [
    "代码见tensorboard_scalar.py"
   ]
  },
  {
   "cell_type": "markdown",
   "metadata": {},
   "source": [
    "3.add_histogram()  \n",
    "功能：统计直方图与多分位数折线图  \n",
    "* tag:图像的标签名，图的唯一标识  \n",
    "* values:要统计的参数  \n",
    "* global_step:y轴  \n",
    "* bins:取直方图的bins"
   ]
  },
  {
   "cell_type": "markdown",
   "metadata": {},
   "source": [
    "代码见tensorboard_histogram.py"
   ]
  },
  {
   "cell_type": "markdown",
   "metadata": {},
   "source": [
    "4.add_image()  \n",
    "功能：记录图像  \n",
    "* tag:图像的标签名，图的唯一标识  \n",
    "* img_tensor：图像数据，注意尺度  \n",
    "* global_step:x轴  \n",
    "* dataformats:数据形式，CHW,HWC,HW "
   ]
  },
  {
   "cell_type": "markdown",
   "metadata": {},
   "source": [
    "代码见tensorboard_image.py"
   ]
  },
  {
   "cell_type": "markdown",
   "metadata": {},
   "source": [
    "torchvision.utils.make_grid  \n",
    "功能：制作网格图像  \n",
    "* tensor:图像数据,B\\*C\\*H\\*W形式  \n",
    "* nrow:行数(列数自动计算)  \n",
    "* padding:图像间距(像素单位)  \n",
    "* normalize:是否将像素值标准化  \n",
    "* range:标准化范围  \n",
    "* scale_each:是否单张图维度标准化  \n",
    "* pad_value:padding的像素值\n"
   ]
  },
  {
   "cell_type": "code",
   "execution_count": null,
   "metadata": {},
   "outputs": [],
   "source": []
  }
 ],
 "metadata": {
  "kernelspec": {
   "display_name": "Python 2",
   "language": "python",
   "name": "python2"
  },
  "language_info": {
   "codemirror_mode": {
    "name": "ipython",
    "version": 2
   },
   "file_extension": ".py",
   "mimetype": "text/x-python",
   "name": "python",
   "nbconvert_exporter": "python",
   "pygments_lexer": "ipython2",
   "version": "2.7.6"
  }
 },
 "nbformat": 4,
 "nbformat_minor": 0
}
