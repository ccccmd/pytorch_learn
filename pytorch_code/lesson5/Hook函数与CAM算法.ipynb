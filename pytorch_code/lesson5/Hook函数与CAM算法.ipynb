{
 "cells": [
  {
   "cell_type": "markdown",
   "metadata": {
    "collapsed": true
   },
   "source": [
    "Hook函数机制：不改变主体，实现额外功能，像一个挂件，挂钩，hook  "
   ]
  },
  {
   "cell_type": "markdown",
   "metadata": {},
   "source": [
    "1.torch.Tensor.register_hook  \n",
    "功能：注册一个反向传播hook函数  \n",
    "Hook函数仅一个输入参数，为张量的梯度"
   ]
  },
  {
   "cell_type": "code",
   "execution_count": 24,
   "metadata": {},
   "outputs": [],
   "source": [
    "import torch\n",
    "import torch.nn as nn"
   ]
  },
  {
   "cell_type": "code",
   "execution_count": 16,
   "metadata": {},
   "outputs": [
    {
     "name": "stdout",
     "output_type": "stream",
     "text": [
      "tensor([5.]) tensor([2.]) None None None\ntensor([2.])\n[tensor([2.])]\n"
     ]
    }
   ],
   "source": [
    "w = torch.tensor([1.], requires_grad=True)\n",
    "x = torch.tensor([2.], requires_grad=True)\n",
    "a = torch.add(w, x)\n",
    "b = torch.add(w, 1)\n",
    "y = torch.mul(a, b)\n",
    "a_grad = list()\n",
    "def grad_hook(grad):\n",
    "    a_grad.append(grad)\n",
    "handle = a.register_hook(grad_hook)\n",
    "y.backward()\n",
    "print(w.grad, x.grad, a.grad, b.grad, y.grad)\n",
    "print(a_grad[0])\n",
    "print(a_grad)\n",
    "handle.remove()"
   ]
  },
  {
   "cell_type": "code",
   "execution_count": 39,
   "metadata": {},
   "outputs": [
    {
     "name": "stdout",
     "output_type": "stream",
     "text": [
      "tensor([10.])\n"
     ]
    }
   ],
   "source": [
    "w = torch.tensor([1.], requires_grad=True)\n",
    "x = torch.tensor([2.], requires_grad=True)\n",
    "a = torch.add(w, x)\n",
    "b = torch.add(w, 1)\n",
    "y = torch.mul(a, b)\n",
    "a_grad = list()\n",
    "def grad_hook(grad):\n",
    "    grad *=2\n",
    "    # return grad * 3\n",
    "handle = w.register_hook(grad_hook)\n",
    "y.backward()\n",
    "print(w.grad)\n",
    "handle.remove()"
   ]
  },
  {
   "cell_type": "markdown",
   "metadata": {},
   "source": [
    "Module.register_forward_hook  \n",
    "功能：注册module的前向传播hook函数  \n",
    "参数：  \n",
    "* module:当前网络层  \n",
    "* input:当前网络层输入数据  \n",
    "* output:当前网络层输出数据"
   ]
  },
  {
   "cell_type": "markdown",
   "metadata": {},
   "source": [
    "Module.register_forward_pre_hook  \n",
    "功能：注册module前向传播前的hook函数  \n",
    "参数：  \n",
    "* module:当前网络层  \n",
    "* input:当前网络层输入数据"
   ]
  },
  {
   "cell_type": "markdown",
   "metadata": {},
   "source": [
    "Module.register_backward_hook  \n",
    "功能:注册module反向传播的hook函数  \n",
    "参数:  \n",
    "* module:当前网络层  \n",
    "* grad_input:当前网络层输入梯度数据  \n",
    "* grad_output:当前网络层输出梯度数据  \n"
   ]
  },
  {
   "cell_type": "code",
   "execution_count": 34,
   "metadata": {},
   "outputs": [],
   "source": [
    "class Net(nn.Module):\n",
    "    def __init__(self):\n",
    "        super(Net, self).__init__()\n",
    "        self.conv1 = nn.Conv2d(1, 2, 3)\n",
    "        self.pool1 = nn.MaxPool2d(2, 2)\n",
    "    def forward(self, x):\n",
    "        x = self.conv1(x)\n",
    "        x = self.pool1(x)\n",
    "        return x"
   ]
  },
  {
   "cell_type": "code",
   "execution_count": 35,
   "metadata": {},
   "outputs": [],
   "source": [
    "def forward_hook(module, data_input, data_output):\n",
    "    fmap_block.append(data_output)\n",
    "    input_block.append(data_input)\n",
    "    \n",
    "    \n",
    "def forward_pre_hook(module, data_input):\n",
    "    print('forward_pre_hook input:{}'.format(data_input))\n",
    "    \n",
    "    \n",
    "def backward_hook(module, grad_input, grad_output):\n",
    "    print('backward hook input:{}'.format(grad_input))\n",
    "    print('backward hook output:{}'.format(grad_output))"
   ]
  },
  {
   "cell_type": "code",
   "execution_count": 36,
   "metadata": {},
   "outputs": [
    {
     "name": "stdout",
     "output_type": "stream",
     "text": [
      "forward_pre_hook input:(tensor([[[[1., 1., 1., 1.],\n          [1., 1., 1., 1.],\n          [1., 1., 1., 1.],\n          [1., 1., 1., 1.]]]]),)\nbackward hook input:(None, tensor([[[[0.5000, 0.5000, 0.5000],\n          [0.5000, 0.5000, 0.5000],\n          [0.5000, 0.5000, 0.5000]]],\n\n\n        [[[0.5000, 0.5000, 0.5000],\n          [0.5000, 0.5000, 0.5000],\n          [0.5000, 0.5000, 0.5000]]]]), tensor([0.5000, 0.5000]))\nbackward hook output:(tensor([[[[0.5000, 0.0000],\n          [0.0000, 0.0000]],\n\n         [[0.5000, 0.0000],\n          [0.0000, 0.0000]]]]),)\n"
     ]
    }
   ],
   "source": [
    "#初始化网络\n",
    "net = Net()\n",
    "net.conv1.weight[0].detach().fill_(1)\n",
    "net.conv1.weight[1].detach().fill_(2)\n",
    "net.conv1.bias.data.detach().zero_()\n",
    "#注册hook\n",
    "fmap_block = list()\n",
    "input_block = list()\n",
    "net.conv1.register_forward_hook(forward_hook)\n",
    "net.conv1.register_forward_pre_hook(forward_pre_hook)\n",
    "net.conv1.register_backward_hook(backward_hook)\n",
    "\n",
    "fake_img = torch.ones((1, 1, 4, 4))\n",
    "output = net(fake_img)\n",
    "loss_fnc = nn.L1Loss()\n",
    "target = torch.randn_like(output)\n",
    "loss = loss_fnc(target, output)\n",
    "loss.backward()\n",
    "\n"
   ]
  },
  {
   "cell_type": "code",
   "execution_count": 37,
   "metadata": {},
   "outputs": [
    {
     "name": "stdout",
     "output_type": "stream",
     "text": [
      "torch.Size([1, 2, 1, 1]) tensor([[[[ 9.]],\n\n         [[18.]]]], grad_fn=<MaxPool2DWithIndicesBackward>)\ntorch.Size([1, 2, 2, 2]) tensor([[[[ 9.,  9.],\n          [ 9.,  9.]],\n\n         [[18., 18.],\n          [18., 18.]]]], grad_fn=<MkldnnConvolutionBackward>)\ntorch.Size([1, 1, 4, 4]) (tensor([[[[1., 1., 1., 1.],\n          [1., 1., 1., 1.],\n          [1., 1., 1., 1.],\n          [1., 1., 1., 1.]]]]),)\n"
     ]
    }
   ],
   "source": [
    "print(output.shape, output)\n",
    "print(fmap_block[0].shape, fmap_block[0])\n",
    "print(input_block[0][0].shape, input_block[0])"
   ]
  },
  {
   "cell_type": "markdown",
   "metadata": {},
   "source": [
    "CAM:类激活图，class activation map  \n",
    "判断类别究竟是根据图片哪个判断确定的。需要在网络后加一个GAP"
   ]
  },
  {
   "cell_type": "markdown",
   "metadata": {},
   "source": [
    "Grad-CAM:CAM改进版，利用梯度作为特征图权重"
   ]
  },
  {
   "cell_type": "code",
   "execution_count": 17,
   "metadata": {},
   "outputs": [],
   "source": []
  },
  {
   "cell_type": "code",
   "execution_count": 17,
   "metadata": {},
   "outputs": [],
   "source": []
  },
  {
   "cell_type": "code",
   "execution_count": 17,
   "metadata": {},
   "outputs": [],
   "source": []
  },
  {
   "cell_type": "code",
   "execution_count": 17,
   "metadata": {},
   "outputs": [],
   "source": []
  },
  {
   "cell_type": "code",
   "execution_count": 17,
   "metadata": {},
   "outputs": [],
   "source": []
  },
  {
   "cell_type": "code",
   "execution_count": null,
   "metadata": {},
   "outputs": [],
   "source": []
  }
 ],
 "metadata": {
  "kernelspec": {
   "display_name": "Python 2",
   "language": "python",
   "name": "python2"
  },
  "language_info": {
   "codemirror_mode": {
    "name": "ipython",
    "version": 2
   },
   "file_extension": ".py",
   "mimetype": "text/x-python",
   "name": "python",
   "nbconvert_exporter": "python",
   "pygments_lexer": "ipython2",
   "version": "2.7.6"
  }
 },
 "nbformat": 4,
 "nbformat_minor": 0
}
