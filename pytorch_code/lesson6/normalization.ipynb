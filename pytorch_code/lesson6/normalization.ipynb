{
 "cells": [
  {
   "cell_type": "markdown",
   "metadata": {
    "collapsed": true
   },
   "source": [
    "Why Normalization  \n",
    "Internal Covariate Shift(ICS): 数据尺度/分布异常,导致训练困难  \n",
    "常见的Normalization  \n",
    "1. Batch Normalization(BN)  \n",
    "2. Layer Normalization(LN)  \n",
    "3. Instance Normalization(IN)  \n",
    "4. Group Normalization(GN)  \n",
    "\n",
    "不同点在于均值和方差求取方式"
   ]
  },
  {
   "cell_type": "markdown",
   "metadata": {},
   "source": [
    "1.Layer Normalization  \n",
    "起因:BN不适用于变长的网络，如RNN  \n",
    "思路:逐层计算均值和方差  \n",
    "注意事项:   \n",
    "\n",
    "1. 不再有running_mean和running_var  \n",
    "2. gamma和beta为逐元素的"
   ]
  },
  {
   "cell_type": "markdown",
   "metadata": {},
   "source": [
    "nn.LayerNorm  \n",
    "主要参数：  \n",
    "* normalized_shape:该层特征形状  \n",
    "* eps:分母修正项  \n",
    "* elementwise_affine:是否需要affine transform"
   ]
  },
  {
   "cell_type": "code",
   "execution_count": 1,
   "metadata": {},
   "outputs": [],
   "source": [
    "import torch\n",
    "import torch.nn as nn\n",
    "import numpy as np"
   ]
  },
  {
   "cell_type": "code",
   "execution_count": 8,
   "metadata": {},
   "outputs": [
    {
     "name": "stdout",
     "output_type": "stream",
     "text": [
      "torch.Size([3, 4]) tensor([[[1., 1., 1., 1.],\n         [1., 1., 1., 1.],\n         [1., 1., 1., 1.]],\n\n        [[2., 2., 2., 2.],\n         [2., 2., 2., 2.],\n         [2., 2., 2., 2.]],\n\n        [[3., 3., 3., 3.],\n         [3., 3., 3., 3.],\n         [3., 3., 3., 3.]],\n\n        [[4., 4., 4., 4.],\n         [4., 4., 4., 4.],\n         [4., 4., 4., 4.]],\n\n        [[5., 5., 5., 5.],\n         [5., 5., 5., 5.],\n         [5., 5., 5., 5.]],\n\n        [[6., 6., 6., 6.],\n         [6., 6., 6., 6.],\n         [6., 6., 6., 6.]]])\ntensor([[[0., 0., 0., 0.],\n         [0., 0., 0., 0.],\n         [0., 0., 0., 0.]],\n\n        [[0., 0., 0., 0.],\n         [0., 0., 0., 0.],\n         [0., 0., 0., 0.]],\n\n        [[0., 0., 0., 0.],\n         [0., 0., 0., 0.],\n         [0., 0., 0., 0.]],\n\n        [[0., 0., 0., 0.],\n         [0., 0., 0., 0.],\n         [0., 0., 0., 0.]],\n\n        [[0., 0., 0., 0.],\n         [0., 0., 0., 0.],\n         [0., 0., 0., 0.]],\n\n        [[0., 0., 0., 0.],\n         [0., 0., 0., 0.],\n         [0., 0., 0., 0.]]], grad_fn=<SelectBackward>)\n"
     ]
    }
   ],
   "source": [
    "batch_size = 8\n",
    "num_features = 6\n",
    "features_shape = (3, 4)\n",
    "feature_map = torch.ones(features_shape)\n",
    "feature_maps = torch.stack([feature_map * (i + 1) for i in range(num_features)], dim=0)\n",
    "feature_maps_bs = torch.stack([feature_maps for i in range(batch_size)], dim=0)\n",
    "ln = nn.LayerNorm([3, 4])\n",
    "output = ln(feature_maps_bs)\n",
    "print(ln.weight.shape, feature_maps_bs[0, ...])\n",
    "print(output[0, ...])"
   ]
  },
  {
   "cell_type": "markdown",
   "metadata": {},
   "source": [
    "2.Instance Normalization  \n",
    "起因: BN在图像生成(Image Generation)中不适用  \n",
    "思路: 逐Instance(channel)计算均值和方差"
   ]
  },
  {
   "cell_type": "markdown",
   "metadata": {},
   "source": [
    "nn.InstanceNorm  \n",
    "主要参数：  \n",
    "* num_features:一个样本特征数量（最重要）  \n",
    "* eps:分母修正项  \n",
    "* momentum:指数加权平均估计当前mean/var  \n",
    "* affine:是否需要affine transform  \n",
    "* track_running_stats:是训练状态，还是测试状态"
   ]
  },
  {
   "cell_type": "code",
   "execution_count": 5,
   "metadata": {},
   "outputs": [
    {
     "name": "stdout",
     "output_type": "stream",
     "text": [
      "tensor([[[[1., 1.],\n          [1., 1.]],\n\n         [[2., 2.],\n          [2., 2.]],\n\n         [[3., 3.],\n          [3., 3.]]],\n\n\n        [[[1., 1.],\n          [1., 1.]],\n\n         [[2., 2.],\n          [2., 2.]],\n\n         [[3., 3.],\n          [3., 3.]]],\n\n\n        [[[1., 1.],\n          [1., 1.]],\n\n         [[2., 2.],\n          [2., 2.]],\n\n         [[3., 3.],\n          [3., 3.]]]]) torch.Size([3, 3, 2, 2])\ntensor([[[[0., 0.],\n          [0., 0.]],\n\n         [[0., 0.],\n          [0., 0.]],\n\n         [[0., 0.],\n          [0., 0.]]],\n\n\n        [[[0., 0.],\n          [0., 0.]],\n\n         [[0., 0.],\n          [0., 0.]],\n\n         [[0., 0.],\n          [0., 0.]]],\n\n\n        [[[0., 0.],\n          [0., 0.]],\n\n         [[0., 0.],\n          [0., 0.]],\n\n         [[0., 0.],\n          [0., 0.]]]])\n"
     ]
    }
   ],
   "source": [
    "batch_size = 3\n",
    "num_features = 3\n",
    "momentum = 0.3\n",
    "features_shape = (2, 2)\n",
    "feature_map = torch.ones(features_shape)\n",
    "feature_maps = torch.stack([feature_map * (i + 1) for i in range(num_features)], dim=0)\n",
    "feature_maps_bs = torch.stack([feature_maps for i in range(batch_size)], dim=0)\n",
    "print(feature_maps_bs, feature_maps_bs.shape)\n",
    "instance_n = nn.InstanceNorm2d(num_features=num_features, momentum=momentum)\n",
    "for i in range(1):\n",
    "    outputs = instance_n(feature_maps_bs)\n",
    "    print(outputs)"
   ]
  },
  {
   "cell_type": "markdown",
   "metadata": {},
   "source": [
    "3.Group Normalization  \n",
    "起因: 小batch样本中，BN估计的值不准  \n",
    "思路: 数据不够，通道来凑  \n",
    "注意事项: \n",
    "1. 不再有running_mean和running_var  \n",
    "2. gamma和beta为逐通道(channel)的  \n",
    "\n",
    "应用场景: 大模型(小batch size)任务"
   ]
  },
  {
   "cell_type": "markdown",
   "metadata": {},
   "source": [
    "nn.GroupNorm  \n",
    "主要参数:  \n",
    "* num_groups:分组数  \n",
    "* num_channels:通道数(特征数)  \n",
    "* eps:分母修正项  \n",
    "* affine:是否需要affine transform"
   ]
  },
  {
   "cell_type": "code",
   "execution_count": 7,
   "metadata": {},
   "outputs": [
    {
     "name": "stdout",
     "output_type": "stream",
     "text": [
      "torch.Size([4]) tensor([[[-1.0000, -1.0000],\n         [-1.0000, -1.0000]],\n\n        [[ 1.0000,  1.0000],\n         [ 1.0000,  1.0000]],\n\n        [[-1.0000, -1.0000],\n         [-1.0000, -1.0000]],\n\n        [[ 1.0000,  1.0000],\n         [ 1.0000,  1.0000]]], grad_fn=<SelectBackward>)\n"
     ]
    }
   ],
   "source": [
    "batch_size = 2\n",
    "num_features = 4\n",
    "num_groups = 2\n",
    "features_shape = (2, 2)\n",
    "feature_map = torch.ones(features_shape)\n",
    "feature_maps = torch.stack([feature_map * (i+1) for i in range(num_features)], dim=0)\n",
    "feature_maps_bs = torch.stack([feature_maps * (i + 1) for i in range(batch_size)], dim=0)\n",
    "gn = nn.GroupNorm(num_groups, num_features)\n",
    "outputs = gn(feature_maps_bs)\n",
    "print(gn.weight.shape, outputs[0])"
   ]
  },
  {
   "cell_type": "markdown",
   "metadata": {},
   "source": [
    "小结:BN、LN、IN和GN都是为了克服ICS"
   ]
  },
  {
   "cell_type": "code",
   "execution_count": null,
   "metadata": {},
   "outputs": [],
   "source": []
  }
 ],
 "metadata": {
  "kernelspec": {
   "display_name": "Python 2",
   "language": "python",
   "name": "python2"
  },
  "language_info": {
   "codemirror_mode": {
    "name": "ipython",
    "version": 2
   },
   "file_extension": ".py",
   "mimetype": "text/x-python",
   "name": "python",
   "nbconvert_exporter": "python",
   "pygments_lexer": "ipython2",
   "version": "2.7.6"
  }
 },
 "nbformat": 4,
 "nbformat_minor": 0
}
