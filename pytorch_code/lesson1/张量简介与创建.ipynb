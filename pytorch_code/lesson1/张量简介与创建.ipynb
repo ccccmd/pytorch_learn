{
 "cells": [
  {
   "cell_type": "heading",
   "metadata": {
    "collapsed": true
   },
   "level": 2,
   "source": [
    "张量概念"
   ]
  },
  {
   "cell_type": "markdown",
   "metadata": {},
   "source": [
    "张量是一个多维数组，它是标量、向量、矩阵的高维拓展。"
   ]
  },
  {
   "cell_type": "markdown",
   "metadata": {},
   "source": [
    "Tensor与Variable  \n",
    "Variable是torch.autograd中的数据类型，主要用于封装Tensor，进行自动求导  \n",
    "* data:被包装的Tensor  \n",
    "* grad:data的梯度  \n",
    "* grad_fn:创建Tensor的Function，是自动求导的关键  \n",
    "* requires_grad:指示是否需要梯度  \n",
    "* is_leaf:指示是否是叶子结点（张量）  \n",
    "\n",
    "PyTorch0.4.0版开始，Variable并入Tensor  \n",
    "* dtype:张量的数据类型，如torch.FloatTensor,torch.cuda.FloatTensor  \n",
    "* shape:张量的形状，如（64，3，224，224）  \n",
    "* device:张量所在设备，GPU/CPU，是加速的关键  \n",
    "\n"
   ]
  },
  {
   "cell_type": "heading",
   "metadata": {},
   "level": 2,
   "source": [
    "张量的创建"
   ]
  },
  {
   "cell_type": "markdown",
   "metadata": {},
   "source": [
    "直接创建 \n",
    "torch.tensor()  \n",
    "功能：从data创建tensor  \n",
    "* data:数据，可以是list，numpy  \n",
    "* dtype:数据类型，默认与data的一致  \n",
    "* device:所在设备，cuda/cpu  \n",
    "* requires_grad:是否需要梯度  \n",
    "* pin_memory:是否存于锁页内存\n"
   ]
  },
  {
   "cell_type": "code",
   "execution_count": 1,
   "metadata": {},
   "outputs": [
    {
     "data": {
      "text/plain": [
       "<torch._C.Generator at 0x12710e9d0>"
      ]
     },
     "execution_count": 1,
     "metadata": {},
     "output_type": "execute_result"
    }
   ],
   "source": [
    "import torch\n",
    "import numpy as np\n",
    "torch.manual_seed(1)"
   ]
  },
  {
   "cell_type": "code",
   "execution_count": 2,
   "metadata": {},
   "outputs": [
    {
     "data": {
      "text/plain": [
       "dtype('float64')"
      ]
     },
     "execution_count": 2,
     "metadata": {},
     "output_type": "execute_result"
    }
   ],
   "source": [
    "arr = np.ones((3,3))\n",
    "arr.dtype"
   ]
  },
  {
   "cell_type": "code",
   "execution_count": 4,
   "metadata": {},
   "outputs": [
    {
     "data": {
      "text/plain": [
       "tensor([[1., 1., 1.],\n        [1., 1., 1.],\n        [1., 1., 1.]], dtype=torch.float64)"
      ]
     },
     "execution_count": 4,
     "metadata": {},
     "output_type": "execute_result"
    }
   ],
   "source": [
    "t = torch.tensor(arr)\n",
    "t"
   ]
  },
  {
   "cell_type": "markdown",
   "metadata": {},
   "source": [
    "torch.from_numpy(ndarray)  \n",
    "功能：从numpy创建tensor  \n",
    "注意事项：从torch.from_numpy创建的tensor于原ndarray共享内存，当修改其中一个的数据，另外一个也将会被改动"
   ]
  },
  {
   "cell_type": "code",
   "execution_count": 5,
   "metadata": {},
   "outputs": [
    {
     "data": {
      "text/plain": [
       "tensor([[1, 2, 3],\n        [4, 5, 6]])"
      ]
     },
     "execution_count": 5,
     "metadata": {},
     "output_type": "execute_result"
    }
   ],
   "source": [
    "arr = np.array([[1, 2, 3], [4, 5, 6]])\n",
    "t = torch.from_numpy(arr)\n",
    "t"
   ]
  },
  {
   "cell_type": "code",
   "execution_count": 7,
   "metadata": {},
   "outputs": [
    {
     "data": {
      "text/plain": [
       "array([[3, 2, 3],\n       [4, 5, 6]])"
      ]
     },
     "execution_count": 7,
     "metadata": {},
     "output_type": "execute_result"
    }
   ],
   "source": [
    "t[0,0]=3\n",
    "arr"
   ]
  },
  {
   "cell_type": "markdown",
   "metadata": {},
   "source": [
    "依据数值创建  \n",
    "torch.zeros()  \n",
    "功能：依size创建全0张量  \n",
    "* size:张量的形状，如（3,3）、（3,224,224）  \n",
    "* out:输出的张量  \n",
    "* layout:内存中布局形式，有strided,sparase_coo等  \n",
    "* device:所在设备，gpu/cpu  \n",
    "* requires_grad:是否需要梯度  "
   ]
  },
  {
   "cell_type": "code",
   "execution_count": 11,
   "metadata": {},
   "outputs": [
    {
     "data": {
      "text/plain": [
       "(tensor([[0, 0, 0],\n         [0, 0, 0],\n         [0, 0, 0]]),\n tensor([[0, 0, 0],\n         [0, 0, 0],\n         [0, 0, 0]]))"
      ]
     },
     "execution_count": 11,
     "metadata": {},
     "output_type": "execute_result"
    }
   ],
   "source": [
    "out_t = torch.tensor([1])\n",
    "t = torch.zeros((3, 3), out=out_t)\n",
    "t, out_t"
   ]
  },
  {
   "cell_type": "markdown",
   "metadata": {},
   "source": [
    "torch.zeros_like()  \n",
    "功能:依input形状创建全0张量  \n",
    "* input:创建与input同形状的全0张量  \n",
    "* dtype:数据类型  \n",
    "* layout:内存中布局形式"
   ]
  },
  {
   "cell_type": "code",
   "execution_count": 18,
   "metadata": {},
   "outputs": [
    {
     "data": {
      "text/plain": [
       "tensor([0, 0])"
      ]
     },
     "execution_count": 18,
     "metadata": {},
     "output_type": "execute_result"
    }
   ],
   "source": [
    "a = torch.tensor([2,2])\n",
    "t = torch.zeros_like(a)\n",
    "t"
   ]
  },
  {
   "cell_type": "markdown",
   "metadata": {},
   "source": [
    "torch.ones()  \n",
    "torch.ones_like()  \n",
    "功能：依input形状创建全1张量  \n",
    "* size:张量的形状，如（3,3）、（3,224,224）  \n",
    "* detype:数据类型\n",
    "* layout:内存中布局形式，有strided,sparase_coo等  \n",
    "* device:所在设备，gpu/cpu  \n",
    "* requires_grad:是否需要梯度  "
   ]
  },
  {
   "cell_type": "markdown",
   "metadata": {},
   "source": [
    "torch.full()  \n",
    "torch.full_like()  \n",
    "功能：依input形状创建全0张量  \n",
    "* size:张量的形状，如(3, 3)  \n",
    "* fill_value:张量的值  \n"
   ]
  },
  {
   "cell_type": "code",
   "execution_count": 12,
   "metadata": {},
   "outputs": [
    {
     "data": {
      "text/plain": [
       "tensor([[10., 10., 10.],\n        [10., 10., 10.],\n        [10., 10., 10.]])"
      ]
     },
     "execution_count": 12,
     "metadata": {},
     "output_type": "execute_result"
    }
   ],
   "source": [
    "t = torch.full((3,3),10)\n",
    "t"
   ]
  },
  {
   "cell_type": "markdown",
   "metadata": {},
   "source": [
    "torch.arange()  \n",
    "功能：创建等差的1维张量  \n",
    "注意事项：数值区间为[start, end)  \n",
    "* start:数列起始值  \n",
    "* end:数列结束值  \n",
    "* step:数列公差，默认为1  "
   ]
  },
  {
   "cell_type": "code",
   "execution_count": 15,
   "metadata": {},
   "outputs": [
    {
     "data": {
      "text/plain": [
       "tensor([2, 4, 6, 8])"
      ]
     },
     "execution_count": 15,
     "metadata": {},
     "output_type": "execute_result"
    }
   ],
   "source": [
    "t = torch.arange(2,10,2)\n",
    "t"
   ]
  },
  {
   "cell_type": "markdown",
   "metadata": {},
   "source": [
    "torch.linspace()  \n",
    "功能：创建均分的1维张量  \n",
    "注意事项：数值区间维[start, end]  \n",
    "* start:数列起始值  \n",
    "* end:数列结束值  \n",
    "* steps:数列长度  \n",
    "\n",
    "步长=（end-start)/(steps-1)"
   ]
  },
  {
   "cell_type": "code",
   "execution_count": 19,
   "metadata": {},
   "outputs": [
    {
     "data": {
      "text/plain": [
       "tensor([ 2.0000,  4.6667,  7.3333, 10.0000])"
      ]
     },
     "execution_count": 19,
     "metadata": {},
     "output_type": "execute_result"
    }
   ],
   "source": [
    "t = torch.linspace(2,10,4)\n",
    "t"
   ]
  },
  {
   "cell_type": "markdown",
   "metadata": {},
   "source": [
    "torch.logspace()  \n",
    "功能：创建对数均分的1维张量  \n",
    "注意事项：长度为steps，底为base  \n",
    "* start:数列起始值  \n",
    "* end:数列结束值  \n",
    "* steps:数列长度  \n",
    "* base:对数函数的底，默认为10  "
   ]
  },
  {
   "cell_type": "code",
   "execution_count": 23,
   "metadata": {},
   "outputs": [
    {
     "data": {
      "text/plain": [
       "tensor([1.0000e+02, 1.0000e+04, 1.0000e+06, 1.0000e+08, 1.0000e+10])"
      ]
     },
     "execution_count": 23,
     "metadata": {},
     "output_type": "execute_result"
    }
   ],
   "source": [
    "t = torch.logspace(2,10,5)\n",
    "t"
   ]
  },
  {
   "cell_type": "markdown",
   "metadata": {},
   "source": [
    "torch.eye()  \n",
    "功能：创建单位对角矩阵（2维张量）  \n",
    "注意事项：默认为方阵  \n",
    "* n:矩阵行数  \n",
    "* m:矩阵列数  \n"
   ]
  },
  {
   "cell_type": "code",
   "execution_count": 25,
   "metadata": {},
   "outputs": [
    {
     "data": {
      "text/plain": [
       "tensor([[1., 0., 0.],\n        [0., 1., 0.]])"
      ]
     },
     "execution_count": 25,
     "metadata": {},
     "output_type": "execute_result"
    }
   ],
   "source": [
    "t = torch.eye(2,3)\n",
    "t"
   ]
  },
  {
   "cell_type": "markdown",
   "metadata": {},
   "source": [
    "依概率分布创建张量  \n",
    "torch.normal()  \n",
    "功能：生成正态分布（高斯分布）  \n",
    "* mean:均值  \n",
    "* std:标准差\n"
   ]
  },
  {
   "cell_type": "code",
   "execution_count": 27,
   "metadata": {},
   "outputs": [
    {
     "data": {
      "text/plain": [
       "tensor([[-0.5631, -0.8923, -0.0583],\n        [-0.1955, -0.9656,  0.4224],\n        [ 0.2673, -0.4212, -0.5107]])"
      ]
     },
     "execution_count": 27,
     "metadata": {},
     "output_type": "execute_result"
    }
   ],
   "source": [
    "t = torch.normal(0.0, 1.0, (3,3))\n",
    "t"
   ]
  },
  {
   "cell_type": "code",
   "execution_count": 29,
   "metadata": {},
   "outputs": [
    {
     "data": {
      "text/plain": [
       "tensor([-0.5727,  1.7535, 13.7610, -3.3252])"
      ]
     },
     "execution_count": 29,
     "metadata": {},
     "output_type": "execute_result"
    }
   ],
   "source": [
    "mean = torch.arange(1, 5, dtype=torch.float)\n",
    "std = torch.arange(1, 5, dtype=torch.float)\n",
    "#必须设置dtype否则会报错\n",
    "t = torch.normal(mean, std)\n",
    "t"
   ]
  },
  {
   "cell_type": "markdown",
   "metadata": {},
   "source": [
    "torch.randn()  \n",
    "torch.randn_like()  \n",
    "功能：生成标准正态分布  \n",
    "* size:张量的形状"
   ]
  },
  {
   "cell_type": "code",
   "execution_count": 31,
   "metadata": {},
   "outputs": [
    {
     "data": {
      "text/plain": [
       "tensor([[ 1.5987, -1.2770,  0.3255],\n        [-0.4791,  1.3790,  2.5286],\n        [ 0.4107, -0.9880, -0.9081]])"
      ]
     },
     "execution_count": 31,
     "metadata": {},
     "output_type": "execute_result"
    }
   ],
   "source": [
    "t = torch.randn((3,3))\n",
    "t"
   ]
  },
  {
   "cell_type": "code",
   "execution_count": 34,
   "metadata": {},
   "outputs": [
    {
     "data": {
      "text/plain": [
       "tensor([ 0.5423,  0.1103, -2.2590])"
      ]
     },
     "execution_count": 34,
     "metadata": {},
     "output_type": "execute_result"
    }
   ],
   "source": [
    "a = torch.tensor([1.0, 2.0, 3.0])\n",
    "#数据类型必须为torch.float\n",
    "t = torch.randn_like(a)\n",
    "t"
   ]
  },
  {
   "cell_type": "markdown",
   "metadata": {},
   "source": [
    "torch.rand()  \n",
    "torch.rand_like()  \n",
    "功能：在区间[0,1)上，生成均匀分布  \n",
    "torch.randint()  \n",
    "torch.randint_like()  \n",
    "功能：在区间[low, high)生成整数均匀分布\n",
    "* size:张量的形状  \n"
   ]
  },
  {
   "cell_type": "code",
   "execution_count": 35,
   "metadata": {},
   "outputs": [
    {
     "data": {
      "text/plain": [
       "tensor([[0.1205, 0.1452, 0.7720],\n        [0.3828, 0.7442, 0.5285],\n        [0.6642, 0.6099, 0.6818]])"
      ]
     },
     "execution_count": 35,
     "metadata": {},
     "output_type": "execute_result"
    }
   ],
   "source": [
    "t = torch.rand((3,3))\n",
    "t"
   ]
  },
  {
   "cell_type": "code",
   "execution_count": 37,
   "metadata": {},
   "outputs": [
    {
     "data": {
      "text/plain": [
       "tensor([[8, 5, 8],\n        [7, 6, 5],\n        [2, 7, 1]])"
      ]
     },
     "execution_count": 37,
     "metadata": {},
     "output_type": "execute_result"
    }
   ],
   "source": [
    "t = torch.randint(1,10,(3,3))\n",
    "t"
   ]
  },
  {
   "cell_type": "markdown",
   "metadata": {},
   "source": [
    "torch.randperm()  \n",
    "功能：生成从0到n-1的随机排列  \n",
    "* n:张量的长度  "
   ]
  },
  {
   "cell_type": "code",
   "execution_count": 38,
   "metadata": {},
   "outputs": [
    {
     "data": {
      "text/plain": [
       "tensor([2, 4, 1, 3, 0])"
      ]
     },
     "execution_count": 38,
     "metadata": {},
     "output_type": "execute_result"
    }
   ],
   "source": [
    "t = torch.randperm(5)\n",
    "t"
   ]
  },
  {
   "cell_type": "markdown",
   "metadata": {},
   "source": [
    "torch.bernoulli()  \n",
    "功能：以input为概率，生成伯努利分布  \n",
    "* input:概率值"
   ]
  },
  {
   "cell_type": "code",
   "execution_count": 44,
   "metadata": {},
   "outputs": [
    {
     "data": {
      "text/plain": [
       "tensor([0., 1., 0., 0.])"
      ]
     },
     "execution_count": 44,
     "metadata": {},
     "output_type": "execute_result"
    }
   ],
   "source": [
    "p = torch.tensor([0.3,0.2,0.4,0.8])\n",
    "t = torch.bernoulli(p)\n",
    "t"
   ]
  }
 ],
 "metadata": {
  "kernelspec": {
   "display_name": "Python 2",
   "language": "python",
   "name": "python2"
  },
  "language_info": {
   "codemirror_mode": {
    "name": "ipython",
    "version": 2
   },
   "file_extension": ".py",
   "mimetype": "text/x-python",
   "name": "python",
   "nbconvert_exporter": "python",
   "pygments_lexer": "ipython2",
   "version": "2.7.6"
  }
 },
 "nbformat": 4,
 "nbformat_minor": 0
}
