{
 "cells": [
  {
   "cell_type": "markdown",
   "metadata": {
    "collapsed": true
   },
   "source": [
    "损失函数：衡量模型输出与真实标签的差异  \n",
    "损失函数、代价函数、目标函数"
   ]
  },
  {
   "cell_type": "markdown",
   "metadata": {},
   "source": [
    "nn.CrossEntropyLoss  \n",
    "功能：nn.LogSoftmax()与nn.NLLLoss()结合，进行交叉熵计算  \n",
    "主要参数：  \n",
    "* weight:各类别的loss设置权值  \n",
    "* ignore_index:忽略某个类别  \n",
    "* reduction:计算模式，可为none/sum/mean  \n",
    "none 逐个元素计算  \n",
    "sum 所有元素求和，返回标量  \n",
    "mean 加权平均，返回标量  \n",
    "\n",
    "交叉熵=信息熵+相对熵  "
   ]
  },
  {
   "cell_type": "code",
   "execution_count": 14,
   "metadata": {},
   "outputs": [],
   "source": [
    "import torch\n",
    "import torch.nn as nn\n",
    "import torch.nn.functional as F\n",
    "import numpy as np"
   ]
  },
  {
   "cell_type": "code",
   "execution_count": 15,
   "metadata": {},
   "outputs": [],
   "source": [
    "inputs = torch.tensor([[1, 2], [1, 3], [1, 3]], dtype=torch.float)\n",
    "target = torch.tensor([0, 1, 1], dtype=torch.long)"
   ]
  },
  {
   "cell_type": "code",
   "execution_count": 8,
   "metadata": {},
   "outputs": [
    {
     "data": {
      "text/plain": [
       "(tensor([1.3133, 0.1269, 0.1269]), tensor(1.5671), tensor(0.5224))"
      ]
     },
     "execution_count": 8,
     "metadata": {},
     "output_type": "execute_result"
    }
   ],
   "source": [
    "loss_f_none = nn.CrossEntropyLoss(weight=None, reduction='none')\n",
    "loss_f_sum = nn.CrossEntropyLoss(weight=None, reduction='sum')\n",
    "loss_f_mean = nn.CrossEntropyLoss(weight=None, reduction='mean')\n",
    "\n",
    "loss_none = loss_f_none(inputs, target)\n",
    "loss_sum = loss_f_sum(inputs, target)\n",
    "loss_mean = loss_f_mean(inputs, target)\n",
    "loss_none, loss_sum, loss_mean"
   ]
  },
  {
   "cell_type": "code",
   "execution_count": 11,
   "metadata": {},
   "outputs": [
    {
     "data": {
      "text/plain": [
       "(1.3132617, 1.0, array([1., 2.], dtype=float32), 0)"
      ]
     },
     "execution_count": 11,
     "metadata": {},
     "output_type": "execute_result"
    }
   ],
   "source": [
    "idx = 0\n",
    "input_1 = inputs.detach().numpy()[idx]\n",
    "target_1 = target.numpy()[idx]\n",
    "x_class = input_1[target_1]\n",
    "sigma_exp_x = np.sum(list(map(np.exp, input_1)))\n",
    "log_sigma_exp_x = np.log(sigma_exp_x)\n",
    "loss_1 = -x_class + log_sigma_exp_x\n",
    "loss_1, x_class, input_1, target_1"
   ]
  },
  {
   "cell_type": "markdown",
   "metadata": {},
   "source": [
    "weight"
   ]
  },
  {
   "cell_type": "code",
   "execution_count": 12,
   "metadata": {},
   "outputs": [
    {
     "data": {
      "text/plain": [
       "(tensor([1., 2.]),\n tensor([1.3133, 0.2539, 0.2539]),\n tensor(1.8210),\n tensor(0.3642))"
      ]
     },
     "execution_count": 12,
     "metadata": {},
     "output_type": "execute_result"
    }
   ],
   "source": [
    "weights = torch.tensor([1, 2], dtype=torch.float)\n",
    "loss_f_none_w = nn.CrossEntropyLoss(weight=weights, reduction='none')\n",
    "loss_f_sum = nn.CrossEntropyLoss(weight=weights, reduction='sum')\n",
    "loss_f_mean = nn.CrossEntropyLoss(weight=weights, reduction='mean')\n",
    "loss_none_w = loss_f_none_w(inputs, target)\n",
    "loss_sum = loss_f_sum(inputs, target)\n",
    "loss_mean = loss_f_mean(inputs, target)\n",
    "weights, loss_none_w, loss_sum, loss_mean"
   ]
  },
  {
   "cell_type": "code",
   "execution_count": 17,
   "metadata": {},
   "outputs": [
    {
     "data": {
      "text/plain": [
       "0.3641947731375694"
      ]
     },
     "execution_count": 17,
     "metadata": {},
     "output_type": "execute_result"
    }
   ],
   "source": [
    "weights = torch.tensor([1, 2], dtype=torch.float)\n",
    "weights_all = np.sum(list(map(lambda x: weights.numpy()[x], target.numpy())))\n",
    "mean = 0\n",
    "loss_sep = loss_none.detach().numpy()\n",
    "for i in range(target.shape[0]):\n",
    "    x_class = target.numpy()[i]\n",
    "    tmp = loss_sep[i] * (weights.numpy()[x_class] / weights_all)\n",
    "    mean += tmp\n",
    "mean"
   ]
  },
  {
   "cell_type": "markdown",
   "metadata": {},
   "source": [
    "nn.NLLLoss  \n",
    "功能：实现负对数似然函数中的负号功能  \n",
    "主要参数：  \n",
    "* weight:各类别的loss设置权值  \n",
    "* ignore_index:忽略某个类别  \n",
    "* reduction:计算模式，可为none/sum/mean  \n",
    "none 逐个元素计算  \n",
    "sum 所有元素求和，返回标量  \n",
    "mean 加权平均，返回标量  "
   ]
  },
  {
   "cell_type": "code",
   "execution_count": 18,
   "metadata": {},
   "outputs": [
    {
     "data": {
      "text/plain": [
       "(tensor([1., 1.]), tensor([-1., -3., -3.]), tensor(-7.), tensor(-2.3333))"
      ]
     },
     "execution_count": 18,
     "metadata": {},
     "output_type": "execute_result"
    }
   ],
   "source": [
    "weights = torch.tensor([1, 1], dtype=torch.float)\n",
    "loss_f_none_w = nn.NLLLoss(weight=weights, reduction='none')\n",
    "loss_f_sum = nn.NLLLoss(weight=weights, reduction='sum')\n",
    "loss_f_mean = nn.NLLLoss(weight=weights, reduction='mean')\n",
    "loss_none_w = loss_f_none_w(inputs, target)\n",
    "loss_sum = loss_f_sum(inputs, target)\n",
    "loss_mean = loss_f_mean(inputs, target)\n",
    "weights, loss_none_w, loss_sum, loss_mean"
   ]
  },
  {
   "cell_type": "markdown",
   "metadata": {},
   "source": [
    "nn.BCELoss  \n",
    "功能：二分类交叉熵  \n",
    "注意事项：输入值取值在[0, 1]  \n",
    "主要参数：  \n",
    "* weight:各类别的loss设置权值  \n",
    "* ignore_index:忽略某个类别  \n",
    "* reduction:计算模式，可为none/sum/mean  \n",
    "none 逐个元素计算  \n",
    "sum 所有元素求和，返回标量  \n",
    "mean 加权平均，返回标量  "
   ]
  },
  {
   "cell_type": "code",
   "execution_count": 19,
   "metadata": {},
   "outputs": [
    {
     "data": {
      "text/plain": [
       "(tensor([1., 1.]),\n tensor([[0.3133, 2.1269],\n         [0.1269, 2.1269],\n         [3.0486, 0.0181],\n         [4.0181, 0.0067]]),\n tensor(11.7856),\n tensor(1.4732))"
      ]
     },
     "execution_count": 19,
     "metadata": {},
     "output_type": "execute_result"
    }
   ],
   "source": [
    "inputs = torch.tensor([[1, 2], [2, 2], [3, 4], [4, 5]], dtype=torch.float)\n",
    "target = torch.tensor([[1, 0], [1, 0], [0, 1], [0, 1]], dtype=torch.float)\n",
    "target_bce = target\n",
    "inputs = torch.sigmoid(inputs)\n",
    "weights = torch.tensor([1, 1], dtype=torch.float)\n",
    "loss_f_none_w = nn.BCELoss(weight=weights, reduction='none')\n",
    "loss_f_sum = nn.BCELoss(weight=weights, reduction='sum')\n",
    "loss_f_mean = nn.BCELoss(weight=weights, reduction='mean')\n",
    "loss_none_w = loss_f_none_w(inputs, target_bce)\n",
    "loss_sum = loss_f_sum(inputs, target_bce)\n",
    "loss_mean = loss_f_mean(inputs, target_bce)\n",
    "weights, loss_none_w, loss_sum, loss_mean"
   ]
  },
  {
   "cell_type": "code",
   "execution_count": 21,
   "metadata": {},
   "outputs": [
    {
     "data": {
      "text/plain": [
       "(tensor([[0.7311, 0.8808],\n         [0.8808, 0.8808],\n         [0.9526, 0.9820],\n         [0.9820, 0.9933]]),\n 0.31326166)"
      ]
     },
     "execution_count": 21,
     "metadata": {},
     "output_type": "execute_result"
    }
   ],
   "source": [
    "idx = 0 \n",
    "x_i = inputs.detach().numpy()[idx, idx]\n",
    "y_i = target.numpy()[idx, idx]\n",
    "l_i = -y_i * np.log(x_i) if y_i else -(1-y_i) * np.log(1-x_i)\n",
    "inputs, l_i"
   ]
  },
  {
   "cell_type": "markdown",
   "metadata": {},
   "source": [
    "nn.BCEWithLogitsLoss  \n",
    "功能：结合Sigmoid与二分类交叉熵  \n",
    "注意事项：网络最后不加sigmoid函数  \n",
    "主要参数： \n",
    "* pos_weight:正样本的权值   \n",
    "* weight:各类别的loss设置权值  \n",
    "* ignore_index:忽略某个类别  \n",
    "* reduction:计算模式，可为none/sum/mean  \n",
    "none 逐个元素计算  \n",
    "sum 所有元素求和，返回标量  \n",
    "mean 加权平均，返回标量  "
   ]
  },
  {
   "cell_type": "code",
   "execution_count": 23,
   "metadata": {},
   "outputs": [
    {
     "data": {
      "text/plain": [
       "(tensor([1., 1.]),\n tensor([[0.3133, 2.1269],\n         [0.1269, 2.1269],\n         [3.0486, 0.0181],\n         [4.0181, 0.0067]]),\n tensor(11.7856),\n tensor(1.4732))"
      ]
     },
     "execution_count": 23,
     "metadata": {},
     "output_type": "execute_result"
    }
   ],
   "source": [
    "inputs = torch.tensor([[1, 2], [2, 2], [3, 4], [4, 5]], dtype=torch.float)\n",
    "target = torch.tensor([[1, 0], [1, 0], [0, 1], [0, 1]], dtype=torch.float)\n",
    "target_bce = target\n",
    "weights = torch.tensor([1, 1], dtype=torch.float)\n",
    "loss_f_none_w = nn.BCEWithLogitsLoss(weight=weights, reduction='none')\n",
    "loss_f_sum = nn.BCEWithLogitsLoss(weight=weights, reduction='sum')\n",
    "loss_f_mean = nn.BCEWithLogitsLoss(weight=weights, reduction='mean')\n",
    "loss_none_w = loss_f_none_w(inputs, target_bce)\n",
    "loss_sum = loss_f_sum(inputs, target_bce)\n",
    "loss_mean = loss_f_mean(inputs, target_bce)\n",
    "weights, loss_none_w, loss_sum, loss_mean\n"
   ]
  },
  {
   "cell_type": "code",
   "execution_count": 25,
   "metadata": {},
   "outputs": [
    {
     "data": {
      "text/plain": [
       "(tensor([1., 1.]),\n tensor([[0.9398, 2.1269],\n         [0.3808, 2.1269],\n         [3.0486, 0.0544],\n         [4.0181, 0.0201]]),\n tensor(12.7158),\n tensor(1.5895))"
      ]
     },
     "execution_count": 25,
     "metadata": {},
     "output_type": "execute_result"
    }
   ],
   "source": [
    "inputs = torch.tensor([[1, 2], [2, 2], [3, 4], [4, 5]], dtype=torch.float)\n",
    "target = torch.tensor([[1, 0], [1, 0], [0, 1], [0, 1]], dtype=torch.float)\n",
    "target_bce = target\n",
    "weights = torch.tensor([1, 1], dtype=torch.float)\n",
    "pos_weight = torch.tensor([3], dtype=torch.float)\n",
    "loss_f_none_w = nn.BCEWithLogitsLoss(weight=weights, reduction='none', pos_weight=pos_weight)\n",
    "loss_f_sum = nn.BCEWithLogitsLoss(weight=weights, reduction='sum', pos_weight=pos_weight)\n",
    "loss_f_mean = nn.BCEWithLogitsLoss(weight=weights, reduction='mean', pos_weight=pos_weight)\n",
    "loss_none_w = loss_f_none_w(inputs, target_bce)\n",
    "loss_sum = loss_f_sum(inputs, target_bce)\n",
    "loss_mean = loss_f_mean(inputs, target_bce)\n",
    "weights, loss_none_w, loss_sum, loss_mean"
   ]
  },
  {
   "cell_type": "code",
   "execution_count": null,
   "metadata": {},
   "outputs": [],
   "source": []
  }
 ],
 "metadata": {
  "kernelspec": {
   "display_name": "Python 2",
   "language": "python",
   "name": "python2"
  },
  "language_info": {
   "codemirror_mode": {
    "name": "ipython",
    "version": 2
   },
   "file_extension": ".py",
   "mimetype": "text/x-python",
   "name": "python",
   "nbconvert_exporter": "python",
   "pygments_lexer": "ipython2",
   "version": "2.7.6"
  }
 },
 "nbformat": 4,
 "nbformat_minor": 0
}
