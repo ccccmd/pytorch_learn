{
 "cells": [
  {
   "cell_type": "markdown",
   "metadata": {
    "collapsed": true
   },
   "source": [
    "数据"
   ]
  },
  {
   "cell_type": "markdown",
   "metadata": {},
   "source": [
    "数据分为数据收集（Img, Label)、数据划分(train valid test)、数据读取(DataLoader）、数据预处理(transforms)  \n",
    "DataLoader可分为Sampler和DataSet，Sampler生成索引，DataSet根据索引找到Img, Label"
   ]
  },
  {
   "cell_type": "markdown",
   "metadata": {},
   "source": [
    "torch.utils.data.DataLoader  \n",
    "功能：构建可迭代的数据装载器  \n",
    "* dataset:Dataset类，决定数据从哪读取及如何读取  \n",
    "* batchsize:批大小  \n",
    "* num_works:是否多进程读取数据  \n",
    "* shuffle:每个epoch是否乱序  \n",
    "* drop_last:当样本数不能被batchsize整除时，是否舍弃最后一批数据  \n",
    "\n",
    "Epoch:所有训练样本都已输入到模型中，称为一个Epoch  \n",
    "Iteration:一批样本输入到模型中，称之为一个Iteration  \n",
    "Batchsize:批大小，决定一个Epoch有多少个Iteration"
   ]
  },
  {
   "cell_type": "markdown",
   "metadata": {},
   "source": [
    "torch.utils.data.Dataset  \n",
    "功能：Dataset抽象类，所有自定义的Dataset需要继承它，并且复写  \n",
    "getitem:接受一个索引，返回一个样本  \n"
   ]
  },
  {
   "cell_type": "markdown",
   "metadata": {},
   "source": [
    "数据读取：  \n",
    "1. 读哪些数据？ Sampler输出的Index  \n",
    "2. 从哪读数据？ Dataset中的data_dir  \n",
    "3. 怎么读数据？ Dataset中的getitem"
   ]
  },
  {
   "cell_type": "code",
   "execution_count": null,
   "metadata": {},
   "outputs": [],
   "source": []
  }
 ],
 "metadata": {
  "kernelspec": {
   "display_name": "Python 2",
   "language": "python",
   "name": "python2"
  },
  "language_info": {
   "codemirror_mode": {
    "name": "ipython",
    "version": 2
   },
   "file_extension": ".py",
   "mimetype": "text/x-python",
   "name": "python",
   "nbconvert_exporter": "python",
   "pygments_lexer": "ipython2",
   "version": "2.7.6"
  }
 },
 "nbformat": 4,
 "nbformat_minor": 0
}
