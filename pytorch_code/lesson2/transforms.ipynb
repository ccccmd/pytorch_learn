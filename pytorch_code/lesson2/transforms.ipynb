{
 "cells": [
  {
   "cell_type": "markdown",
   "metadata": {
    "collapsed": true
   },
   "source": [
    "transforms"
   ]
  },
  {
   "cell_type": "markdown",
   "metadata": {},
   "source": [
    "torchvision.transforms：常用的图像预处理方法  \n",
    "torchvision.datasets:常用数据集的dataset实现，MNIST,CLFAR-10，ImageNet等  \n",
    "torchvision.model:常用的模型预训练，AlexNet，VGG，ResNet，GoogleNet等  \n"
   ]
  },
  {
   "cell_type": "markdown",
   "metadata": {},
   "source": [
    "transforms.Normalize  \n",
    "功能：逐channel的对图像进行标准化  \n",
    "output = (input - mean)/std  \n",
    "* mean:各通道的均值  \n",
    "* std:各通道的标准差  \n",
    "* inplace:是否原地操作"
   ]
  },
  {
   "cell_type": "code",
   "execution_count": null,
   "metadata": {},
   "outputs": [],
   "source": []
  }
 ],
 "metadata": {
  "kernelspec": {
   "display_name": "Python 2",
   "language": "python",
   "name": "python2"
  },
  "language_info": {
   "codemirror_mode": {
    "name": "ipython",
    "version": 2
   },
   "file_extension": ".py",
   "mimetype": "text/x-python",
   "name": "python",
   "nbconvert_exporter": "python",
   "pygments_lexer": "ipython2",
   "version": "2.7.6"
  }
 },
 "nbformat": 4,
 "nbformat_minor": 0
}
