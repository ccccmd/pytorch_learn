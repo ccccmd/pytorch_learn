{
 "cells": [
  {
   "cell_type": "markdown",
   "metadata": {
    "collapsed": true
   },
   "source": [
    "数据增强又称为数据增广，数据扩增，它是对训练集进行变换，使训练集更丰富，从而让模型更具泛化能力"
   ]
  },
  {
   "cell_type": "heading",
   "metadata": {},
   "level": 2,
   "source": [
    "transforms--Crop"
   ]
  },
  {
   "cell_type": "markdown",
   "metadata": {},
   "source": [
    "1. transforms.CenterCrop  \n",
    "功能:从图像中心裁剪图片\n",
    "    * size：所需裁剪图片尺寸\n",
    "1. transforms.RandomCrop  \n",
    "功能：从图片中随机裁剪出尺寸为size的图片\n",
    "    * size: 所需裁剪图片尺寸\n",
    "    * padding: 设置填充大小  \n",
    "    当为a时，上下左右均填充a个像素  \n",
    "    当为(a,b)时，上下填充b个像素，左右填充a个像素  \n",
    "    当为(a,b,c,d)时，左，上，右，下分别填充a，b，c，d  \n",
    "    * pad_if_need: 若图像小于设定size，则填充  \n",
    "    * padding_mode: 填充模式，有4种模式  \n",
    "        1. constant: 像素值由fill设定  \n",
    "        2. edge: 像素值由图像边缘像素决定\n",
    "        3. reflect： 镜像填充，最后一个像素不镜像\n",
    "        4. symmetric: 镜像填充，最后一个像素镜像。\n",
    "    * fill: constant时，设置填充的像素值。\n",
    "1. RandomResizedCrop  \n",
    "功能：随机大小、长宽比裁剪图片  \n",
    "    * size：所需裁剪图片尺寸  \n",
    "    * scale：随机裁剪面积比例，默认（0.08,1）  \n",
    "    * ratio：随机长宽比，默认（3/4，4/3）  \n",
    "    * interpolation：插值方法  \n",
    "1. FiveCrop  \n",
    "5. TenCrop  \n",
    "功能：在图像的上下左右以及中心裁剪出尺寸为size的5张图片，TenCrop对这5张图片进行水平或者垂直镜像获得10张图片  \n",
    "    * size: 所需裁剪图片尺寸  \n",
    "    * vertical_flip: 是否垂直翻转\n",
    "\n"
   ]
  },
  {
   "cell_type": "heading",
   "metadata": {},
   "level": 2,
   "source": [
    "transforms--Flip\n"
   ]
  },
  {
   "cell_type": "markdown",
   "metadata": {},
   "source": [
    "1. RandomHorizontalFlip  \n",
    "2. RandomVerticalFlip  \n",
    "功能：依概率水平（左右）或垂直（上下）翻转图片  \n",
    "    * p：翻转概率  \n",
    "3. RandomRotation  \n",
    "功能：随机旋转图片\n",
    "    * degrees：旋转角度  \n",
    "    当为a时，在(-a,a)之间选择旋转角度  \n",
    "    当为(a,b)时，在(a,b)之间选择旋转角度  \n",
    "    * resample：重采样方法  \n",
    "    * expand：是否扩大图片，以保持原图信息  \n",
    "    * center：旋转点设置，默认中心旋转  \n",
    "旋转之后如果batch不为1，需要重新进行resize。\n"
   ]
  },
  {
   "cell_type": "heading",
   "metadata": {},
   "level": 2,
   "source": [
    "transforms--图像变换"
   ]
  },
  {
   "cell_type": "markdown",
   "metadata": {},
   "source": [
    "1. Pad  \n",
    "功能：对图片边缘进行填充  \n",
    "    * padding: 设置填充大小  \n",
    "    当为a时，上下左右均填充a个像素  \n",
    "    当为(a,b)时，上下填充b个像素，左右填充a个像素  \n",
    "    当为(a,b,c,d)时，左，上，右，下分别填充a，b，c，d  \n",
    "    * padding_mode: 填充模式，有4种模式  \n",
    "        1. constant: 像素值由fill设定  \n",
    "        2. edge: 像素值由图像边缘像素决定\n",
    "        3. reflect： 镜像填充，最后一个像素不镜像\n",
    "        4. symmetric: 镜像填充，最后一个像素镜像。\n",
    "    * fill: constant时，设置填充的像素值。  \n",
    "2. ColorJitter  \n",
    "功能：调整亮度、对比度、饱和度和色相  \n",
    "    * brightness：亮度调整因子  \n",
    "    当为a时，从[max(0,1-a),1+a]中随机选择  \n",
    "    当为(a,b)时，从[a,b]中随机选择  \n",
    "    * contrast：对比度参数，同bightness  \n",
    "    * saturation：饱和度参数，同brightness  \n",
    "    * hue：色相参数，当为a时，从[-a,a]中选择参数，注：0<=a<=0.5  \n",
    "    当为(a,b)时，从[a,b]中选择参数，注：-0.5<=a<=b<=0.5  \n",
    "3. Grayscale\n",
    "4. RandomGrayscale  \n",
    "功能：依概率将图片转换为灰度图  \n",
    "    * num_output_channels：输出通道数只能设1或3  \n",
    "    * p：概率值，图像被转换为灰度图的概率  \n",
    "5. RandomAffine  \n",
    "功能：对图像进行仿射变换，仿射变换是二维的线性变换，由五种基本原子变换构成，分别是旋转、平移、缩放、错切和旋转  \n",
    "    * degrees：旋转角度设置  \n",
    "    * translate：平移区间设置，如(a,b)，a设置宽（width），b设置高（height）  \n",
    "    图像在宽维度平移的区间为-img_width*a<dx<img_width*a  \n",
    "    * scale：缩放比例（以面积为单位）  \n",
    "    * fill_color：填充颜色设置  \n",
    "    * shear：错切角度设置，有水平错切和垂直错切  \n",
    "    若为a，则仅在x轴错切，错切角度在(-a,a)之间  \n",
    "    若为(a,b),则a设置x轴角度，b设置y的角度  \n",
    "    若为(a,b,c,d)，则a，b设置x轴角度，c，d设置y轴角度  \n",
    "    * resample：重采样方法，有NEAREST、BILINEAR、BICUBIC  \n",
    "6. RandomErasing  \n",
    "功能：对图像进行随机遮挡（比较常用）*在张量上进行操作*  \n",
    "    * p：概率值，执行该操作的概率  \n",
    "    * scale:遮挡区域的面积  常用(0.02,0.33)  \n",
    "    * ratio：遮挡区域长宽比  常用(0.3,3.3)  \n",
    "    * value：设置遮挡区域的像素值，（R，G，B）or（Gray）像素值为0～1 还可以设置为字符串  \n",
    "7. Lambda  \n",
    "功能：用户自定义lambda方法  \n",
    "    * lambd：lambda匿名函数  "
   ]
  },
  {
   "cell_type": "heading",
   "metadata": {},
   "level": 2,
   "source": [
    "transforms的操作"
   ]
  },
  {
   "cell_type": "markdown",
   "metadata": {},
   "source": [
    "1. transforms.RandomChoice  \n",
    "功能：从一系列transforms方法中随机挑选一个  \n",
    "2. transforms.RandomApply  \n",
    "功能：依据概率执行一组transforms操作  \n",
    "3. transforms.RandomOrder  \n",
    "功能：对一组transforms操作打乱顺序"
   ]
  },
  {
   "cell_type": "heading",
   "metadata": {},
   "level": 2,
   "source": [
    "自定义transforms"
   ]
  },
  {
   "cell_type": "markdown",
   "metadata": {},
   "source": [
    "自定义transforms要素：  \n",
    "1. 仅接受一个参数，返回一个参数  \n",
    "2. 注意上下游的输出与输入  \n",
    "\n",
    "通过类实现多参数传入"
   ]
  },
  {
   "cell_type": "heading",
   "metadata": {},
   "level": 2,
   "source": [
    "数据增强实战"
   ]
  },
  {
   "cell_type": "markdown",
   "metadata": {},
   "source": [
    "原则：让训练集与测试集更接近  \n",
    "* 空间位置：平移  \n",
    "* 色彩：灰度图，色彩抖动  \n",
    "* 形状： 仿射变换 \n",
    "* 上下文场景：遮挡，填充  \n"
   ]
  },
  {
   "cell_type": "code",
   "execution_count": null,
   "metadata": {},
   "outputs": [],
   "source": []
  }
 ],
 "metadata": {
  "kernelspec": {
   "display_name": "Python 2",
   "language": "python",
   "name": "python2"
  },
  "language_info": {
   "codemirror_mode": {
    "name": "ipython",
    "version": 2
   },
   "file_extension": ".py",
   "mimetype": "text/x-python",
   "name": "python",
   "nbconvert_exporter": "python",
   "pygments_lexer": "ipython2",
   "version": "2.7.6"
  }
 },
 "nbformat": 4,
 "nbformat_minor": 0
}
