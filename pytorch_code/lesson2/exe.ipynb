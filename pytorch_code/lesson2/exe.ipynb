{
 "cells": [
  {
   "cell_type": "markdown",
   "metadata": {
    "collapsed": true
   },
   "source": [
    "使用卷积的时候，特征图大小减半，通道增倍。  \n",
    "卷积、BatchNorm、Relu通常一起使用  \n",
    "卷积向全联接过度过程使用线性池化。  \n",
    "减少网络参数个数，有正则化的效果，可以改变输入图片的尺寸大小  \n",
    "第一层通常用比较大的卷积核，有较大的感受野"
   ]
  },
  {
   "cell_type": "code",
   "execution_count": null,
   "metadata": {},
   "outputs": [],
   "source": []
  }
 ],
 "metadata": {
  "kernelspec": {
   "display_name": "Python 2",
   "language": "python",
   "name": "python2"
  },
  "language_info": {
   "codemirror_mode": {
    "name": "ipython",
    "version": 2
   },
   "file_extension": ".py",
   "mimetype": "text/x-python",
   "name": "python",
   "nbconvert_exporter": "python",
   "pygments_lexer": "ipython2",
   "version": "2.7.6"
  }
 },
 "nbformat": 4,
 "nbformat_minor": 0
}
