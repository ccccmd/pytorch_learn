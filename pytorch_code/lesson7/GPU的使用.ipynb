{
 "cells": [
  {
   "cell_type": "markdown",
   "metadata": {
    "collapsed": true
   },
   "source": [
    "CPU(Central Processing Unit, 中央处理器):主要包括控制器和运算器  \n",
    "GPU(Graphics Processing Unit, 图形处理器):处理统一的,无依赖的大规模数据运算"
   ]
  },
  {
   "cell_type": "markdown",
   "metadata": {},
   "source": [
    "数据迁移  \n",
    "从CPU到GPU:data.to('cuda')  \n",
    "从GPU到CPU:data.to('cpu')  \n",
    "data:  \n",
    "1.Tensor  \n",
    "2.Module"
   ]
  },
  {
   "cell_type": "markdown",
   "metadata": {},
   "source": [
    "to函数:转换数据类型/设备  \n",
    "区别:张量不执行inplace，模型执行inplace  \n",
    "张量需要使用=重新赋值，module不需要重新赋值"
   ]
  },
  {
   "cell_type": "markdown",
   "metadata": {},
   "source": [
    "torch.cuda常用方法  \n",
    "1.torch.cuda.device_count():计算当前可见可用gpu数  \n",
    "2.torch.cuda.get_device_name():获取gpu名称  \n",
    "3.torch.cuda.manual_seed():为当前gpu设置随机种子  \n",
    "4.torch.cuda.manual_seed_all():为所有可见可用gpu设置随机种子  \n",
    "5.torch.cuda.set_device():设置主gpu为哪一个物理gpu(不推荐)  \n",
    "推荐: os.environ.setdefault('CUDA_VISIBLE_DEVICES','2,3')"
   ]
  },
  {
   "cell_type": "markdown",
   "metadata": {},
   "source": [
    "多gpu运算的分发并行机制  \n",
    "torch.nn.DataParallel  \n",
    "功能:包装模型，实现分发并行机制  \n",
    "主要参数:  \n",
    "* module:需要包装分发的模型  \n",
    "* device_ids:可分发的gpu,默认分发到所有可见可用gpu  \n",
    "* output_device:结果输出设备"
   ]
  },
  {
   "cell_type": "markdown",
   "metadata": {},
   "source": []
  },
  {
   "cell_type": "code",
   "execution_count": null,
   "metadata": {},
   "outputs": [],
   "source": []
  }
 ],
 "metadata": {
  "kernelspec": {
   "display_name": "Python 2",
   "language": "python",
   "name": "python2"
  },
  "language_info": {
   "codemirror_mode": {
    "name": "ipython",
    "version": 2
   },
   "file_extension": ".py",
   "mimetype": "text/x-python",
   "name": "python",
   "nbconvert_exporter": "python",
   "pygments_lexer": "ipython2",
   "version": "2.7.6"
  }
 },
 "nbformat": 4,
 "nbformat_minor": 0
}
