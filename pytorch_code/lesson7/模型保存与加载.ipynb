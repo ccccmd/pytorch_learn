{
 "cells": [
  {
   "cell_type": "markdown",
   "metadata": {
    "collapsed": true
   },
   "source": [
    "序列化与反序列化"
   ]
  },
  {
   "cell_type": "markdown",
   "metadata": {},
   "source": [
    "1.torch.save(序列化)    \n",
    "主要参数:  \n",
    "* obj:对象  \n",
    "* f:输出路径"
   ]
  },
  {
   "cell_type": "markdown",
   "metadata": {},
   "source": [
    "2.torch.load(反序列化)  \n",
    "主要参数:  \n",
    "* f:文件路径  \n",
    "* map_location:指定存放位置,cpu or gpu   "
   ]
  },
  {
   "cell_type": "markdown",
   "metadata": {},
   "source": [
    "法1:保存整个Module  \n",
    "torch.save(net, path)  \n",
    "加载的时候直接torch.load赋值给一个新网络就好  \n",
    "法2:保存模型参数  \n",
    "state_dict = net.state_dict()  \n",
    "torch.save(state_dict, path)  \n",
    "加载的时候需要torch.load赋值给一个state_dict_load字典，然后再更新，创建一个新网络，  \n",
    "使用net_new.load_state_dict(state_dict_load)"
   ]
  },
  {
   "cell_type": "markdown",
   "metadata": {},
   "source": [
    "模型保存为.pkl的形式"
   ]
  },
  {
   "cell_type": "markdown",
   "metadata": {},
   "source": [
    "断点续训练  \n",
    "防止因意外导致训练中途失败  \n",
    "整个训练过程中需要保存的是模型和优化器  \n",
    "checkpoint = {'model_state_dict':net.state_dict(),'optimizer_state_dict':optimizer.state_dict(),'epoch':epoch}  \n",
    "path_checkpoint = './checkpoint\\_{}_epoch.pkl'.format(epoch)  \n",
    "torch.save(checkpoint, path_checkpoint)"
   ]
  },
  {
   "cell_type": "markdown",
   "metadata": {},
   "source": [
    "断点恢复  \n",
    "path_checkpoint = './checkpoint\\_4_epoch.pkl'  \n",
    "checkpoint = torch.load(path_checkpoint)  \n",
    "net.load_state_dict(checkpoint['model_state_dict'])  \n",
    "optimizer.load_state_dict(checkpoint['optimizer_state_dict'])\n",
    "start_epoch = checkpoint['epoch']  \n",
    "scheduler.last_epoch = start_epoch"
   ]
  },
  {
   "cell_type": "code",
   "execution_count": null,
   "metadata": {},
   "outputs": [],
   "source": []
  }
 ],
 "metadata": {
  "kernelspec": {
   "display_name": "Python 2",
   "language": "python",
   "name": "python2"
  },
  "language_info": {
   "codemirror_mode": {
    "name": "ipython",
    "version": 2
   },
   "file_extension": ".py",
   "mimetype": "text/x-python",
   "name": "python",
   "nbconvert_exporter": "python",
   "pygments_lexer": "ipython2",
   "version": "2.7.6"
  }
 },
 "nbformat": 4,
 "nbformat_minor": 0
}
