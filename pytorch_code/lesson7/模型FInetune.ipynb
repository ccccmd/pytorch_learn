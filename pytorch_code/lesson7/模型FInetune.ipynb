{
 "cells": [
  {
   "cell_type": "markdown",
   "metadata": {
    "collapsed": true
   },
   "source": [
    "模型微调:  \n",
    "Transfer Learning:机器学习分支，研究源域的知识如何应用到目标域  \n",
    "Model Finetune:模型的迁移学习  \n",
    "模型微调步骤:  \n",
    "1. 获取预训练模型参数  \n",
    "2. 加载模型(load_state_dict)  \n",
    "3. 修改输出层  \n",
    "\n",
    "模型微调训练方法:  \n",
    "1. 固定预训练的参数(requires_grad = False;lr = 0)  \n",
    "2. Features Extractor较小学习率(params_group)  \n",
    "\n",
    "目的是为了防止过拟合"
   ]
  },
  {
   "cell_type": "code",
   "execution_count": null,
   "metadata": {},
   "outputs": [],
   "source": []
  }
 ],
 "metadata": {
  "kernelspec": {
   "display_name": "Python 2",
   "language": "python",
   "name": "python2"
  },
  "language_info": {
   "codemirror_mode": {
    "name": "ipython",
    "version": 2
   },
   "file_extension": ".py",
   "mimetype": "text/x-python",
   "name": "python",
   "nbconvert_exporter": "python",
   "pygments_lexer": "ipython2",
   "version": "2.7.6"
  }
 },
 "nbformat": 4,
 "nbformat_minor": 0
}
